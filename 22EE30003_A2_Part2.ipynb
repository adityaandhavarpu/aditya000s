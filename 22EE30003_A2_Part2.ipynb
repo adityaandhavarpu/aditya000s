{
  "cells": [
    {
      "cell_type": "markdown",
      "metadata": {
        "id": "l6O-uvbSee1p"
      },
      "source": [
        "# Programming Assignment 2 Part 2 - Principal Component Analysis"
      ]
    },
    {
      "cell_type": "markdown",
      "metadata": {
        "id": "4cOrsl3gee1v"
      },
      "source": [
        "In this programming assignment, you will implement a decision tree model and PCA algorithm.\n",
        "\n",
        "**For Even Roll Number Students:**\n",
        "\n",
        "* In this part, you have to implement the PCA algorithm to perform dimensionality reduction on the breast cancer dataset.\n",
        "* Dataset: ````breast-cancer.csv```` with ``diagnosis`` as the target variable.\n",
        "\n",
        "**For Odd Roll Number Students:**\n",
        "\n",
        "* In this part, you have to implement the PCA algorithm to perform dimensionality reduction on the wine quality dataset.\n",
        "* Dataset: ````wine-quality.csv```` with ``Customer_Segment`` as the target variable.\n",
        "\n",
        "The assignment zip file (ML_CS60050_A2.zip) contains the respective datasets which will be used in this assignment.\n",
        "\n",
        "You have to write your code in this jupyter notebook. You have to write your code only between ### START CODE HERE ### and ### END CODE HERE ### comments."
      ]
    },
    {
      "cell_type": "markdown",
      "metadata": {
        "id": "dOWsOD6Qee1w"
      },
      "source": [
        "### Assignment Submission Instructions\n",
        "\n",
        "Please submit your assignment as a ZIP file that contains a folder named in the following format: `RollNo_ML_A2`. Inside this folder, include two Jupyter notebooks and a Report with the following names:\n",
        "\n",
        "1. `RollNo_A2_Part1.ipynb`\n",
        "2. `RollNo_A2_Part2.ipynb`\n",
        "3. `RollNo_report.pdf`\n",
        "\n",
        "\n",
        "Instructions for the Report:\n",
        "* Summarize results from noiseless and noisy datasets.\n",
        "* Compare performance and note the impact of noise.\n",
        "* Conclude with key findings and implications.\n",
        "\n",
        "Make sure that you replace `RollNo` with your actual roll number in both the folder name and the notebook filenames.\n",
        "\n",
        "For example, if your roll number is `23CS60R11`, the folder should be named `23CS60R11_ML_A2`, and the three files should be named `23CS60R11_A2_Part1.ipynb`, `23CS60R11_A2_Part2.ipynb` and `RollNo_report.pdf`.\n",
        "\n",
        "Submit this ZIP file as your assignment submission."
      ]
    },
    {
      "cell_type": "code",
      "execution_count": 1,
      "metadata": {
        "execution": {
          "iopub.execute_input": "2024-08-29T09:25:06.676623Z",
          "iopub.status.busy": "2024-08-29T09:25:06.675572Z",
          "iopub.status.idle": "2024-08-29T09:25:09.528544Z",
          "shell.execute_reply": "2024-08-29T09:25:09.527379Z",
          "shell.execute_reply.started": "2024-08-29T09:25:06.676576Z"
        },
        "trusted": true,
        "id": "eH9qpogUee1x"
      },
      "outputs": [],
      "source": [
        "import seaborn as sns\n",
        "import numpy as np\n",
        "import pandas as pd\n",
        "import matplotlib.pyplot as plt\n",
        "import plotly.express as px\n",
        "import plotly.graph_objects as go\n",
        "from plotly.subplots import make_subplots"
      ]
    },
    {
      "cell_type": "markdown",
      "metadata": {
        "id": "g1IF5yI2ee1z"
      },
      "source": [
        "### 2.1. Reading and Pre-processing the data"
      ]
    },
    {
      "cell_type": "markdown",
      "metadata": {
        "id": "C2BB5Iz2ee1z"
      },
      "source": [
        "In the following function ```load_data```, you have to read the data from the file and store the data into a pandas dataframe. Then you have to create two numpy arrays $X$ and $y$ from the dataframe:\n",
        "\n",
        "+ $X$: Input data of the shape (number of samples, number of input features)\n",
        "+ $y$: Target variable of the shape (number of samples,)\n"
      ]
    },
    {
      "cell_type": "code",
      "execution_count": 2,
      "metadata": {
        "colab": {
          "base_uri": "https://localhost:8080/"
        },
        "id": "9vWhvawgee1z",
        "outputId": "79603988-7fcf-492c-dfed-a3860511773b"
      },
      "outputs": [
        {
          "output_type": "stream",
          "name": "stdout",
          "text": [
            "Shape of X: (178, 13)  Shape of y: (178,)\n"
          ]
        }
      ],
      "source": [
        "## CODE REQUIRED ##\n",
        "\n",
        "def load_data(filepath):\n",
        "    \"\"\"\n",
        "    This function loads the data into a pandas dataframe and coverts it into X and y numpy arrays\n",
        "\n",
        "    Args:\n",
        "        filepath: File path as a string\n",
        "    Returns:\n",
        "        X: Input data of the shape (# of samples, # of input features)\n",
        "        y: Target variable of the shape (# of sample,)\n",
        "    \"\"\"\n",
        "\n",
        "    ### START CODE HERE ###\n",
        "    df=pd.read_csv(filepath)\n",
        "    X=df.iloc[:,:-1].values\n",
        "    y=df.iloc[:,-1].values\n",
        "\n",
        "    ### END CODE HERE ###\n",
        "\n",
        "    return X,y\n",
        "\n",
        "filepath = None\n",
        "### START CODE HERE ###\n",
        "filepath = \"/content/wine-quality.csv\"\n",
        "### END CODE HERE ###\n",
        "X, y = load_data(filepath)\n",
        "\n",
        "print(\"Shape of X:\",X.shape, \" Shape of y:\",y.shape)"
      ]
    },
    {
      "cell_type": "markdown",
      "metadata": {
        "id": "Gz380EJ4ee10"
      },
      "source": [
        "### 2.2. Model Implementation"
      ]
    },
    {
      "cell_type": "markdown",
      "metadata": {
        "id": "RxPaob0Eee10"
      },
      "source": [
        "### The main steps of the PCA algorithm are as follows:\n",
        "\n",
        "1. Compute the mean of the input data along each feature dimension.\n",
        "2. Subtract the mean from the input data to center it around zero.\n",
        "3. Compute the covariance matrix of the centered input data.\n",
        "4. Compute the eigenvectors and eigenvalues of the covariance matrix.\n",
        "5. Keep only the first `n_components` eigenvectors as the principal components.\n",
        "6. Compute the explained variance ratio for each principal component.\n",
        "7. Transform the input data by projecting it onto the principal components.\n",
        "\n",
        "#### The mean of the input data along each feature dimension is computed as:\n",
        "\n",
        "$$\n",
        "\\boldsymbol{\\mu} = \\frac{1}{n}\\sum_{i=1}^{n}\\mathbf{x}_i\n",
        "$$\n",
        "\n",
        "where $n$ is the number of samples and $\\mathbf{x}_i$ is the feature vector of the $i$th sample.\n",
        "\n",
        "#### The centered input data is computed as:\n",
        "\n",
        "$$\n",
        "\\mathbf{x}_i' = \\mathbf{x}_i - \\boldsymbol{\\mu}\n",
        "$$\n",
        "\n",
        "where $\\mathbf{X}$ is the input data matrix with shape $(n, p)$, $n$ is the number of samples, and $p$ is the number of features.\n",
        "\n",
        "#### The covariance matrix of the centered input data is computed as:\n",
        "\n",
        "$$\n",
        "\\mathbf{C} = \\frac{1}{n-1}\\sum_{i=1}^{n}(\\mathbf{x}_i' \\cdot \\mathbf{x}_i'^T)\n",
        "$$\n",
        "\n",
        "where $\\mathbf{C}$ is the covariance matrix with shape $(p, p)$.\n",
        "\n",
        "#### The eigenvectors and eigenvalues of the covariance matrix are computed as:\n",
        "\n",
        "$$\n",
        "\\mathbf{C} \\cdot \\mathbf{v}_i = \\lambda_i \\cdot \\mathbf{v}_i\n",
        "$$\n",
        "\n",
        "where $\\mathbf{v}_i$ is the $i$th eigenvector with length $p$, and $\\lambda_i$ is the corresponding eigenvalue.\n",
        "\n",
        "#### Here, we keep only the first `n_components` eigenvectors as the principal components.\n",
        "\n",
        "#### The explained variance ratio for each principal component is computed as:\n",
        "\n",
        "$$\n",
        "\\mathrm{ExplainedVarianceRatio_i} = \\frac{\\lambda_i}{\\sum_{j=1}^{p}\\lambda_j}\n",
        "$$\n",
        "\n",
        "where $\\mathrm{ExplainedVarianceRatio_i}$ is the explained variance ratio for the $i$th principal component.\n",
        "\n",
        "#### The transformed data is computed as:\n",
        "\n",
        "$$\n",
        "\\mathbf{X}_{\\text{transformed}} = \\mathbf{X}_{\\text{centered}} \\cdot \\mathbf{V}\n",
        "$$\n",
        "\n",
        "where $\\mathbf{V}$ is the matrix of principal components with shape $(p, k)$, $\\mathbf{X}_{\\text{centered}}$ is the centered input data matrix with shape $(n, p)$, and $\\mathbf{X}_{\\text{transformed}}$ is the transformed data matrix with shape $(n, k)$."
      ]
    },
    {
      "cell_type": "code",
      "execution_count": 3,
      "metadata": {
        "execution": {
          "iopub.execute_input": "2024-08-29T09:25:54.760641Z",
          "iopub.status.busy": "2024-08-29T09:25:54.759458Z",
          "iopub.status.idle": "2024-08-29T09:25:54.773826Z",
          "shell.execute_reply": "2024-08-29T09:25:54.772749Z",
          "shell.execute_reply.started": "2024-08-29T09:25:54.760587Z"
        },
        "trusted": true,
        "id": "Y_6URKhEee11"
      },
      "outputs": [],
      "source": [
        "## CODE REQUIRED ##\n",
        "class PCA:\n",
        "    \"\"\"\n",
        "    Principal Component Analysis (PCA) class for dimensionality reduction.\n",
        "    \"\"\"\n",
        "\n",
        "    def __init__(self, n_components):\n",
        "        \"\"\"\n",
        "        Constructor method that initializes the PCA object with the number of components to retain.\n",
        "\n",
        "        Args:\n",
        "        - n_components (int): Number of principal components to retain.\n",
        "        \"\"\"\n",
        "        self.n_components = n_components\n",
        "\n",
        "    def fit(self, X):\n",
        "        \"\"\"\n",
        "        Fits the PCA model to the input data and computes the principal components.\n",
        "        (HINT: Use numpy's linalg module to compute eigenvalues and eigenvectors)\n",
        "\n",
        "        Args:\n",
        "        - X (numpy.ndarray): Input data matrix with shape (n_samples, n_features).\n",
        "        \"\"\"\n",
        "        # Compute the mean of the input data along each feature dimension.\n",
        "        ### START CODE HERE ###\n",
        "        mean = np.mean(X,axis=0)\n",
        "        ### END CODE HERE ###\n",
        "\n",
        "        # Subtract the mean from the input data to center it around zero.\n",
        "        ### START CODE HERE ###\n",
        "        X = X-mean\n",
        "        ### END CODE HERE ###\n",
        "\n",
        "        # Compute the covariance matrix of the centered input data.\n",
        "        ### START CODE HERE ###\n",
        "        cov = np.cov(X,rowvar=False)\n",
        "        ### END CODE HERE ###\n",
        "\n",
        "        # Compute the eigenvectors and eigenvalues of the covariance matrix.\n",
        "        ### START CODE HERE ###\n",
        "        eigenvalues, eigenvectors = np.linalg.eigh(cov)\n",
        "        ### END CODE HERE ###\n",
        "\n",
        "        # Keep only the first n_components eigenvectors as the principal components.\n",
        "        self.components = eigenvectors[:,:self.n_components]\n",
        "\n",
        "        # Compute the total variance of the input data\n",
        "        ### START CODE HERE ###\n",
        "        total_variance = np.sum(eigenvalues)\n",
        "        ### END CODE HERE ###\n",
        "\n",
        "        # Compute the variance explained by each principal component\n",
        "        self.explained_variances = eigenvalues[:self.n_components]\n",
        "\n",
        "        # Compute the explained variance ratio for each principal component\n",
        "        self.explained_variance_ratio_ = self.explained_variances / total_variance\n",
        "\n",
        "    def transform(self, X):\n",
        "        \"\"\"\n",
        "        Transforms the input data by projecting it onto the principal components.\n",
        "\n",
        "        Args:\n",
        "        - X (numpy.ndarray): Input data matrix with shape (n_samples, n_features).\n",
        "\n",
        "        Returns:\n",
        "        - transformed_data (numpy.ndarray): Transformed data matrix with shape (n_samples, n_components).\n",
        "        \"\"\"\n",
        "\n",
        "        ### START CODE HERE ###\n",
        "        mean=np.mean(X,axis=0)\n",
        "        X_centered = X - mean\n",
        "        transformed_data = np.dot(X_centered,self.components)\n",
        "\n",
        "        ### END CODE HERE ###\n",
        "\n",
        "        return transformed_data\n",
        "\n",
        "    def fit_transform(self, X):\n",
        "        \"\"\"\n",
        "        Fits the PCA model to the input data and computes the principal components then\n",
        "        transforms the input data by projecting it onto the principal components.\n",
        "\n",
        "        Args:\n",
        "        - X (numpy.ndarray): Input data matrix with shape (n_samples, n_features).\n",
        "        \"\"\"\n",
        "        self.fit(X)\n",
        "        transformed_data = self.transform(X)\n",
        "        return transformed_data"
      ]
    },
    {
      "cell_type": "markdown",
      "metadata": {
        "id": "9YnP4T-iee12"
      },
      "source": [
        "### 2.3. Executing the PCA Algorithm"
      ]
    },
    {
      "cell_type": "code",
      "execution_count": 4,
      "metadata": {
        "execution": {
          "iopub.execute_input": "2024-08-29T09:25:56.792845Z",
          "iopub.status.busy": "2024-08-29T09:25:56.792075Z",
          "iopub.status.idle": "2024-08-29T09:25:56.797559Z",
          "shell.execute_reply": "2024-08-29T09:25:56.796476Z",
          "shell.execute_reply.started": "2024-08-29T09:25:56.792803Z"
        },
        "trusted": true,
        "colab": {
          "base_uri": "https://localhost:8080/"
        },
        "id": "l_1i5u4dee12",
        "outputId": "89e9ec83-87c7-4786-d51e-01a4274f05c2"
      },
      "outputs": [
        {
          "output_type": "stream",
          "name": "stdout",
          "text": [
            "[8.25392788e-08 2.12013755e-07]\n"
          ]
        }
      ],
      "source": [
        "# Initialize the PCA class with the number of principal components to retain (in this case, 2).\n",
        "pca = PCA(2)\n",
        "\n",
        "# Fit the PCA model to the input data X.\n",
        "pca.fit(X)\n",
        "\n",
        "# Print the explained variance ratio for each of the selected principal components.\n",
        "# This shows how much variance each principal component explains in relation to the total variance.\n",
        "print(pca.explained_variance_ratio_)"
      ]
    },
    {
      "cell_type": "markdown",
      "metadata": {
        "id": "Sh0uv8SOee12"
      },
      "source": [
        "### 2.4. Transforming Data"
      ]
    },
    {
      "cell_type": "code",
      "execution_count": 5,
      "metadata": {
        "execution": {
          "iopub.execute_input": "2024-08-29T09:26:08.598819Z",
          "iopub.status.busy": "2024-08-29T09:26:08.598044Z",
          "iopub.status.idle": "2024-08-29T09:26:08.604132Z",
          "shell.execute_reply": "2024-08-29T09:26:08.602996Z",
          "shell.execute_reply.started": "2024-08-29T09:26:08.598777Z"
        },
        "trusted": true,
        "colab": {
          "base_uri": "https://localhost:8080/"
        },
        "id": "QHdPSzGmee13",
        "outputId": "0845001f-4c41-4493-9503-26be2def1077"
      },
      "outputs": [
        {
          "output_type": "stream",
          "name": "stdout",
          "text": [
            "Shape of transformed X:  (178, 2)\n"
          ]
        }
      ],
      "source": [
        "# Transform the input data X using the previously fitted PCA model.\n",
        "X_transformed = pca.transform(X)\n",
        "\n",
        "# Print the shape of the transformed data X.\n",
        "print(\"Shape of transformed X: \", X_transformed.shape)\n"
      ]
    },
    {
      "cell_type": "markdown",
      "metadata": {
        "id": "nahZS3V_ee13"
      },
      "source": [
        "### 2.5. Visualizing Data"
      ]
    },
    {
      "cell_type": "code",
      "execution_count": 6,
      "metadata": {
        "execution": {
          "iopub.execute_input": "2024-08-29T09:26:11.272902Z",
          "iopub.status.busy": "2024-08-29T09:26:11.271995Z",
          "iopub.status.idle": "2024-08-29T09:26:11.337618Z",
          "shell.execute_reply": "2024-08-29T09:26:11.336641Z",
          "shell.execute_reply.started": "2024-08-29T09:26:11.272862Z"
        },
        "trusted": true,
        "colab": {
          "base_uri": "https://localhost:8080/",
          "height": 542
        },
        "id": "X2Mxz0r7ee13",
        "outputId": "dbef0acb-1d94-46a3-e909-718a5f6c78df"
      },
      "outputs": [
        {
          "output_type": "display_data",
          "data": {
            "text/html": [
              "<html>\n",
              "<head><meta charset=\"utf-8\" /></head>\n",
              "<body>\n",
              "    <div>            <script src=\"https://cdnjs.cloudflare.com/ajax/libs/mathjax/2.7.5/MathJax.js?config=TeX-AMS-MML_SVG\"></script><script type=\"text/javascript\">if (window.MathJax && window.MathJax.Hub && window.MathJax.Hub.Config) {window.MathJax.Hub.Config({SVG: {font: \"STIX-Web\"}});}</script>                <script type=\"text/javascript\">window.PlotlyConfig = {MathJaxConfig: 'local'};</script>\n",
              "        <script charset=\"utf-8\" src=\"https://cdn.plot.ly/plotly-2.24.1.min.js\"></script>                <div id=\"ea83c6f0-0722-4c41-80d8-367c22f60396\" class=\"plotly-graph-div\" style=\"height:525px; width:100%;\"></div>            <script type=\"text/javascript\">                                    window.PLOTLYENV=window.PLOTLYENV || {};                                    if (document.getElementById(\"ea83c6f0-0722-4c41-80d8-367c22f60396\")) {                    Plotly.newPlot(                        \"ea83c6f0-0722-4c41-80d8-367c22f60396\",                        [{\"hovertemplate\":\"x=%{x}\\u003cbr\\u003ey=%{y}\\u003cbr\\u003ecolor=%{marker.color}\\u003cextra\\u003e\\u003c\\u002fextra\\u003e\",\"legendgroup\":\"\",\"marker\":{\"color\":[1,1,1,1,1,1,1,1,1,1,1,1,1,1,1,1,1,1,1,1,1,1,1,1,1,1,1,1,1,1,1,1,1,1,1,1,1,1,1,1,1,1,1,1,1,1,1,1,1,1,1,1,1,1,1,1,1,1,1,2,2,2,2,2,2,2,2,2,2,2,2,2,2,2,2,2,2,2,2,2,2,2,2,2,2,2,2,2,2,2,2,2,2,2,2,2,2,2,2,2,2,2,2,2,2,2,2,2,2,2,2,2,2,2,2,2,2,2,2,2,2,2,2,2,2,2,2,2,2,2,3,3,3,3,3,3,3,3,3,3,3,3,3,3,3,3,3,3,3,3,3,3,3,3,3,3,3,3,3,3,3,3,3,3,3,3,3,3,3,3,3,3,3,3,3,3,3,3],\"coloraxis\":\"coloraxis\",\"symbol\":\"circle\"},\"mode\":\"markers\",\"name\":\"\",\"orientation\":\"v\",\"showlegend\":false,\"x\":[-0.08026443367441084,-0.013592746462908532,0.035408162333378866,-0.016344360168103547,-0.015277610441275603,-0.07486414010832547,0.002976002433935453,-0.040007440892979584,-0.016296514371412628,0.024582841845787462,0.046766795343563525,0.0637277914326556,0.05776440473066142,-0.08906168807686514,0.009267048566697557,0.06629348553381119,-0.024277601541667866,-0.09565515369322171,-0.052233724110473424,0.09991371655992931,-0.043344072029225966,0.1226529287753552,-0.021879837153519165,0.07330020144896307,0.04917850801644869,-0.06363092296024872,-0.023896216455576123,0.02429222120793352,-0.0006127838931869754,0.024914849742698912,0.06911998279581612,0.0417901047160393,-0.09013693694562074,-0.18511823929414345,0.04761239512535502,0.012873401373617893,0.04417691228674875,0.08860555645997155,0.008526939713243559,0.04253003096237994,-0.11688248088484075,0.0007244242497463888,0.0732306584279995,-0.03235643675520758,-0.07723842858818496,-0.03477882603323969,-0.0002906491028219261,-0.013661599222010129,-0.0015587953204737094,-0.08162323322606947,0.1104372420585604,0.12778983221893037,-0.07699277610825996,-0.04890200844376033,-0.014385676381491677,0.08023511887902389,-0.03689023962153183,0.028753469505195483,0.04911135950166354,0.0547152816240986,-0.156081160116433,-0.14444324915189974,0.008288184859874188,0.15587787817879828,0.033373495571919404,0.04661160916451191,-0.012244122939682918,0.03575223624464594,-0.15167981764056632,0.06964993595004174,0.002082655997766798,0.21595632071910034,0.06813962267001411,0.04627296074476664,0.192464476838173,0.040203933202102,0.06947924924940015,-0.07421250645663487,-0.09903242948705357,-0.05134489271343963,0.0583094517245635,0.07065270697745751,0.0879585947061473,-0.1754448382850403,0.13205697782262452,0.052015673128116224,0.02282391384658202,0.07549411271597298,-0.0551090162586026,-0.005860515817919514,-0.06237774479545085,-0.048719742771496564,-0.1526728866376652,0.12410496837522757,0.20810598846685854,-0.10144469185214985,0.26439428524791536,0.05668444177267466,0.01782395552524527,-0.03131876779223332,0.012317924107626239,0.030494895705662408,-0.01794713622744291,-0.02596601274086542,-0.030323029249672357,-0.32864767745673884,-0.03858504108266131,-0.11150759148712341,-0.10780503946296106,0.06848186028977522,0.007887222044855386,0.06075484959983476,-0.10322757393357306,0.028837220526935953,-0.06342284401664354,-0.03171543755537874,0.0052622287788803845,-0.0470209933393156,-0.059280232572109716,-0.03198355171799591,-0.026702182751779466,-0.22904783117038216,-0.0296946740791193,-0.0004751168285369374,0.1109183756684687,-0.08806775036813548,-0.1258147927312783,-0.13713002543351166,-0.07751926223797935,-0.00551595093925976,0.12806738914623195,0.16335831281115817,0.12800730337256094,0.24450072892967942,-0.11461627781002827,-0.18356715711130173,0.012001037935718755,-0.07147660997923629,-0.10795289885258003,-0.023012346178859833,-0.036343213017980526,0.04290990713880616,0.016377846387713,0.021971068839958183,0.07868628754757526,-0.04880828189884288,0.07798038824926734,0.016324811414601393,0.00605227696118601,0.034812008840062685,0.14813469892222356,0.13622007205265366,0.1795084151486717,-0.15452977100813808,-0.14999142056585416,-0.1207843202761302,0.0018366824398109635,-0.12787535066936487,-0.04204274044138818,-0.004921194197002884,-0.018287839964046818,0.0013316311855600485,-0.11308435093953656,0.012977645678226965,0.04058723187140442,-0.0361039151601801,0.06921187288753705,0.07879800141919865,0.08352755460479717,0.2181214958207349,0.03840596361008503,-0.019212698597840167,0.03401460279275173,-0.02725096916961186,0.04264491992027399,-0.036174895403991304,-0.13275907797432476,-0.026936998945177437],\"xaxis\":\"x\",\"y\":[-0.0385475626201376,-0.057191577084852105,-0.048797875084531435,-0.1663530723071034,-0.007118042140887378,-0.03161414929871986,-0.09707464444528503,-0.02222658213017065,-0.030606400273887918,-0.009465220082672084,0.1482102429259147,0.03691171959021229,0.037693287595223224,0.07823736074153599,0.10527122269454091,0.24201935973350527,-0.014650585561340575,0.07644336866382992,0.1864793021089959,-0.058907478802640266,0.048658156832175885,0.07423223388283635,-0.02984802510542489,-0.04737979900622634,-0.023464520794608857,-0.007020613970477711,-0.2208094783487697,-0.09602774458449316,0.11969236838699847,-0.045588404475060296,0.04779502327755662,0.029442803281975318,0.10898561286389784,0.16763341694465198,-0.04224604389349903,-0.020397424809630017,-0.057457491246455154,-0.022487785891676857,0.04585642098227469,-0.06293163182217161,-0.05665899158895552,-0.02811635702703282,-0.2608046599150292,-0.07806926593314782,-0.14582262779316357,-0.03708192560741302,0.046679456999359714,-0.13053589993752102,0.04480364734059618,0.1905201352988421,0.0975858847619935,0.08847893654911547,-0.03501006931393302,0.06271557588193825,-0.12175589532857055,-0.05753023241312242,-0.07733342094278903,-0.02697446267340764,-0.21718765580578858,-0.0024165537643220728,0.20106674044033243,0.10566890459580269,0.18955060192696352,0.14210769158261205,0.3701076340740964,0.07897939544340415,0.09661922402580886,0.1447954369978526,-0.0764266783578648,0.22733592444449566,-0.14689742327289998,0.20563275545100168,-0.03571663983724882,0.19435678125454242,-0.15401632049815778,0.27474528540120496,0.1823265474029719,0.0206694581149088,-0.02708084190163558,0.24707356746880058,0.27857934406060075,0.09088049100289654,0.16187098859967106,0.05377228008244092,-0.3933629526538061,0.09683529465410612,0.25791122696516605,0.28818121957557763,-0.03999379184155049,-0.05154576482102967,0.01772842870184077,0.050771444751110784,-0.07135617408643008,0.1140260013626006,0.12039200159539001,0.029805838171910782,-0.13721319921674388,0.13281445416781892,-0.07228998995045965,0.3846810721045353,0.2787876941731748,-0.027928672042926626,-0.21634278826173847,-0.08522161650361143,0.005703610575721523,-0.06800047045292168,-0.02507157439884967,-0.134171566356604,-0.17733270406277185,-0.24809801189941708,-0.15625934022505805,-0.1434834442767719,0.2295157090145763,-0.02009309338093777,-0.14446816520060685,0.6242130409821629,-0.11528434973685274,-0.008728639117816458,-0.15906965819639982,-0.05557042489333662,-0.2369989867759806,-0.08747976144692549,0.0031148466348101637,-0.07410095000381568,-0.19795702786416786,-0.15623585046901015,-0.3464988638081762,-0.04965081140014438,-0.19496764866075256,-0.10282591981536635,-0.28453045192980175,-0.12179044733320367,-0.2065244266082224,-0.06446126955916064,-0.1635990487561252,-0.001413702040193314,-0.03534664280787659,0.18527056889078947,0.08568532954134267,0.0637055118617713,-0.10978207513161516,-0.1536357917026106,0.023731326595217914,0.1684037817109213,0.01931241535464687,-0.23626341040443502,-0.10542790671172235,-0.05599563123906119,-0.1063618752402607,-0.007447952073407989,-0.12321324595383025,-0.12306174629066595,-0.24499359925130168,0.023903478886215867,-0.18729135550089993,0.07572715873308052,-0.004246460104359209,-0.024789617882142092,-0.01832823919606268,-0.06672853946920909,-0.06772488736575867,0.1610792527153745,0.10170685877263805,-0.12556216006270315,0.07283232912633845,0.14958915091849687,0.3020703208890939,0.16231499089248486,0.0008705646783041874,0.04637246076747472,-0.12240014995458902,-0.024403512654487074,-0.05782729762023653,0.09835474924516921,0.012625639889778755,0.09604850204679254,-0.0520893106616185,0.03192017636447244],\"yaxis\":\"y\",\"type\":\"scatter\"}],                        {\"template\":{\"data\":{\"histogram2dcontour\":[{\"type\":\"histogram2dcontour\",\"colorbar\":{\"outlinewidth\":0,\"ticks\":\"\"},\"colorscale\":[[0.0,\"#0d0887\"],[0.1111111111111111,\"#46039f\"],[0.2222222222222222,\"#7201a8\"],[0.3333333333333333,\"#9c179e\"],[0.4444444444444444,\"#bd3786\"],[0.5555555555555556,\"#d8576b\"],[0.6666666666666666,\"#ed7953\"],[0.7777777777777778,\"#fb9f3a\"],[0.8888888888888888,\"#fdca26\"],[1.0,\"#f0f921\"]]}],\"choropleth\":[{\"type\":\"choropleth\",\"colorbar\":{\"outlinewidth\":0,\"ticks\":\"\"}}],\"histogram2d\":[{\"type\":\"histogram2d\",\"colorbar\":{\"outlinewidth\":0,\"ticks\":\"\"},\"colorscale\":[[0.0,\"#0d0887\"],[0.1111111111111111,\"#46039f\"],[0.2222222222222222,\"#7201a8\"],[0.3333333333333333,\"#9c179e\"],[0.4444444444444444,\"#bd3786\"],[0.5555555555555556,\"#d8576b\"],[0.6666666666666666,\"#ed7953\"],[0.7777777777777778,\"#fb9f3a\"],[0.8888888888888888,\"#fdca26\"],[1.0,\"#f0f921\"]]}],\"heatmap\":[{\"type\":\"heatmap\",\"colorbar\":{\"outlinewidth\":0,\"ticks\":\"\"},\"colorscale\":[[0.0,\"#0d0887\"],[0.1111111111111111,\"#46039f\"],[0.2222222222222222,\"#7201a8\"],[0.3333333333333333,\"#9c179e\"],[0.4444444444444444,\"#bd3786\"],[0.5555555555555556,\"#d8576b\"],[0.6666666666666666,\"#ed7953\"],[0.7777777777777778,\"#fb9f3a\"],[0.8888888888888888,\"#fdca26\"],[1.0,\"#f0f921\"]]}],\"heatmapgl\":[{\"type\":\"heatmapgl\",\"colorbar\":{\"outlinewidth\":0,\"ticks\":\"\"},\"colorscale\":[[0.0,\"#0d0887\"],[0.1111111111111111,\"#46039f\"],[0.2222222222222222,\"#7201a8\"],[0.3333333333333333,\"#9c179e\"],[0.4444444444444444,\"#bd3786\"],[0.5555555555555556,\"#d8576b\"],[0.6666666666666666,\"#ed7953\"],[0.7777777777777778,\"#fb9f3a\"],[0.8888888888888888,\"#fdca26\"],[1.0,\"#f0f921\"]]}],\"contourcarpet\":[{\"type\":\"contourcarpet\",\"colorbar\":{\"outlinewidth\":0,\"ticks\":\"\"}}],\"contour\":[{\"type\":\"contour\",\"colorbar\":{\"outlinewidth\":0,\"ticks\":\"\"},\"colorscale\":[[0.0,\"#0d0887\"],[0.1111111111111111,\"#46039f\"],[0.2222222222222222,\"#7201a8\"],[0.3333333333333333,\"#9c179e\"],[0.4444444444444444,\"#bd3786\"],[0.5555555555555556,\"#d8576b\"],[0.6666666666666666,\"#ed7953\"],[0.7777777777777778,\"#fb9f3a\"],[0.8888888888888888,\"#fdca26\"],[1.0,\"#f0f921\"]]}],\"surface\":[{\"type\":\"surface\",\"colorbar\":{\"outlinewidth\":0,\"ticks\":\"\"},\"colorscale\":[[0.0,\"#0d0887\"],[0.1111111111111111,\"#46039f\"],[0.2222222222222222,\"#7201a8\"],[0.3333333333333333,\"#9c179e\"],[0.4444444444444444,\"#bd3786\"],[0.5555555555555556,\"#d8576b\"],[0.6666666666666666,\"#ed7953\"],[0.7777777777777778,\"#fb9f3a\"],[0.8888888888888888,\"#fdca26\"],[1.0,\"#f0f921\"]]}],\"mesh3d\":[{\"type\":\"mesh3d\",\"colorbar\":{\"outlinewidth\":0,\"ticks\":\"\"}}],\"scatter\":[{\"fillpattern\":{\"fillmode\":\"overlay\",\"size\":10,\"solidity\":0.2},\"type\":\"scatter\"}],\"parcoords\":[{\"type\":\"parcoords\",\"line\":{\"colorbar\":{\"outlinewidth\":0,\"ticks\":\"\"}}}],\"scatterpolargl\":[{\"type\":\"scatterpolargl\",\"marker\":{\"colorbar\":{\"outlinewidth\":0,\"ticks\":\"\"}}}],\"bar\":[{\"error_x\":{\"color\":\"#2a3f5f\"},\"error_y\":{\"color\":\"#2a3f5f\"},\"marker\":{\"line\":{\"color\":\"#E5ECF6\",\"width\":0.5},\"pattern\":{\"fillmode\":\"overlay\",\"size\":10,\"solidity\":0.2}},\"type\":\"bar\"}],\"scattergeo\":[{\"type\":\"scattergeo\",\"marker\":{\"colorbar\":{\"outlinewidth\":0,\"ticks\":\"\"}}}],\"scatterpolar\":[{\"type\":\"scatterpolar\",\"marker\":{\"colorbar\":{\"outlinewidth\":0,\"ticks\":\"\"}}}],\"histogram\":[{\"marker\":{\"pattern\":{\"fillmode\":\"overlay\",\"size\":10,\"solidity\":0.2}},\"type\":\"histogram\"}],\"scattergl\":[{\"type\":\"scattergl\",\"marker\":{\"colorbar\":{\"outlinewidth\":0,\"ticks\":\"\"}}}],\"scatter3d\":[{\"type\":\"scatter3d\",\"line\":{\"colorbar\":{\"outlinewidth\":0,\"ticks\":\"\"}},\"marker\":{\"colorbar\":{\"outlinewidth\":0,\"ticks\":\"\"}}}],\"scattermapbox\":[{\"type\":\"scattermapbox\",\"marker\":{\"colorbar\":{\"outlinewidth\":0,\"ticks\":\"\"}}}],\"scatterternary\":[{\"type\":\"scatterternary\",\"marker\":{\"colorbar\":{\"outlinewidth\":0,\"ticks\":\"\"}}}],\"scattercarpet\":[{\"type\":\"scattercarpet\",\"marker\":{\"colorbar\":{\"outlinewidth\":0,\"ticks\":\"\"}}}],\"carpet\":[{\"aaxis\":{\"endlinecolor\":\"#2a3f5f\",\"gridcolor\":\"white\",\"linecolor\":\"white\",\"minorgridcolor\":\"white\",\"startlinecolor\":\"#2a3f5f\"},\"baxis\":{\"endlinecolor\":\"#2a3f5f\",\"gridcolor\":\"white\",\"linecolor\":\"white\",\"minorgridcolor\":\"white\",\"startlinecolor\":\"#2a3f5f\"},\"type\":\"carpet\"}],\"table\":[{\"cells\":{\"fill\":{\"color\":\"#EBF0F8\"},\"line\":{\"color\":\"white\"}},\"header\":{\"fill\":{\"color\":\"#C8D4E3\"},\"line\":{\"color\":\"white\"}},\"type\":\"table\"}],\"barpolar\":[{\"marker\":{\"line\":{\"color\":\"#E5ECF6\",\"width\":0.5},\"pattern\":{\"fillmode\":\"overlay\",\"size\":10,\"solidity\":0.2}},\"type\":\"barpolar\"}],\"pie\":[{\"automargin\":true,\"type\":\"pie\"}]},\"layout\":{\"autotypenumbers\":\"strict\",\"colorway\":[\"#636efa\",\"#EF553B\",\"#00cc96\",\"#ab63fa\",\"#FFA15A\",\"#19d3f3\",\"#FF6692\",\"#B6E880\",\"#FF97FF\",\"#FECB52\"],\"font\":{\"color\":\"#2a3f5f\"},\"hovermode\":\"closest\",\"hoverlabel\":{\"align\":\"left\"},\"paper_bgcolor\":\"white\",\"plot_bgcolor\":\"#E5ECF6\",\"polar\":{\"bgcolor\":\"#E5ECF6\",\"angularaxis\":{\"gridcolor\":\"white\",\"linecolor\":\"white\",\"ticks\":\"\"},\"radialaxis\":{\"gridcolor\":\"white\",\"linecolor\":\"white\",\"ticks\":\"\"}},\"ternary\":{\"bgcolor\":\"#E5ECF6\",\"aaxis\":{\"gridcolor\":\"white\",\"linecolor\":\"white\",\"ticks\":\"\"},\"baxis\":{\"gridcolor\":\"white\",\"linecolor\":\"white\",\"ticks\":\"\"},\"caxis\":{\"gridcolor\":\"white\",\"linecolor\":\"white\",\"ticks\":\"\"}},\"coloraxis\":{\"colorbar\":{\"outlinewidth\":0,\"ticks\":\"\"}},\"colorscale\":{\"sequential\":[[0.0,\"#0d0887\"],[0.1111111111111111,\"#46039f\"],[0.2222222222222222,\"#7201a8\"],[0.3333333333333333,\"#9c179e\"],[0.4444444444444444,\"#bd3786\"],[0.5555555555555556,\"#d8576b\"],[0.6666666666666666,\"#ed7953\"],[0.7777777777777778,\"#fb9f3a\"],[0.8888888888888888,\"#fdca26\"],[1.0,\"#f0f921\"]],\"sequentialminus\":[[0.0,\"#0d0887\"],[0.1111111111111111,\"#46039f\"],[0.2222222222222222,\"#7201a8\"],[0.3333333333333333,\"#9c179e\"],[0.4444444444444444,\"#bd3786\"],[0.5555555555555556,\"#d8576b\"],[0.6666666666666666,\"#ed7953\"],[0.7777777777777778,\"#fb9f3a\"],[0.8888888888888888,\"#fdca26\"],[1.0,\"#f0f921\"]],\"diverging\":[[0,\"#8e0152\"],[0.1,\"#c51b7d\"],[0.2,\"#de77ae\"],[0.3,\"#f1b6da\"],[0.4,\"#fde0ef\"],[0.5,\"#f7f7f7\"],[0.6,\"#e6f5d0\"],[0.7,\"#b8e186\"],[0.8,\"#7fbc41\"],[0.9,\"#4d9221\"],[1,\"#276419\"]]},\"xaxis\":{\"gridcolor\":\"white\",\"linecolor\":\"white\",\"ticks\":\"\",\"title\":{\"standoff\":15},\"zerolinecolor\":\"white\",\"automargin\":true,\"zerolinewidth\":2},\"yaxis\":{\"gridcolor\":\"white\",\"linecolor\":\"white\",\"ticks\":\"\",\"title\":{\"standoff\":15},\"zerolinecolor\":\"white\",\"automargin\":true,\"zerolinewidth\":2},\"scene\":{\"xaxis\":{\"backgroundcolor\":\"#E5ECF6\",\"gridcolor\":\"white\",\"linecolor\":\"white\",\"showbackground\":true,\"ticks\":\"\",\"zerolinecolor\":\"white\",\"gridwidth\":2},\"yaxis\":{\"backgroundcolor\":\"#E5ECF6\",\"gridcolor\":\"white\",\"linecolor\":\"white\",\"showbackground\":true,\"ticks\":\"\",\"zerolinecolor\":\"white\",\"gridwidth\":2},\"zaxis\":{\"backgroundcolor\":\"#E5ECF6\",\"gridcolor\":\"white\",\"linecolor\":\"white\",\"showbackground\":true,\"ticks\":\"\",\"zerolinecolor\":\"white\",\"gridwidth\":2}},\"shapedefaults\":{\"line\":{\"color\":\"#2a3f5f\"}},\"annotationdefaults\":{\"arrowcolor\":\"#2a3f5f\",\"arrowhead\":0,\"arrowwidth\":1},\"geo\":{\"bgcolor\":\"white\",\"landcolor\":\"#E5ECF6\",\"subunitcolor\":\"white\",\"showland\":true,\"showlakes\":true,\"lakecolor\":\"white\"},\"title\":{\"x\":0.05},\"mapbox\":{\"style\":\"light\"}}},\"xaxis\":{\"anchor\":\"y\",\"domain\":[0.0,1.0],\"title\":{\"text\":\"PC1\"}},\"yaxis\":{\"anchor\":\"x\",\"domain\":[0.0,1.0],\"title\":{\"text\":\"PC2\"}},\"coloraxis\":{\"colorbar\":{\"title\":{\"text\":\"color\"}},\"colorscale\":[[0.0,\"#0d0887\"],[0.1111111111111111,\"#46039f\"],[0.2222222222222222,\"#7201a8\"],[0.3333333333333333,\"#9c179e\"],[0.4444444444444444,\"#bd3786\"],[0.5555555555555556,\"#d8576b\"],[0.6666666666666666,\"#ed7953\"],[0.7777777777777778,\"#fb9f3a\"],[0.8888888888888888,\"#fdca26\"],[1.0,\"#f0f921\"]]},\"legend\":{\"tracegroupgap\":0},\"margin\":{\"t\":60},\"title\":{\"text\":\"PCA transformed data\"}},                        {\"responsive\": true}                    ).then(function(){\n",
              "                            \n",
              "var gd = document.getElementById('ea83c6f0-0722-4c41-80d8-367c22f60396');\n",
              "var x = new MutationObserver(function (mutations, observer) {{\n",
              "        var display = window.getComputedStyle(gd).display;\n",
              "        if (!display || display === 'none') {{\n",
              "            console.log([gd, 'removed!']);\n",
              "            Plotly.purge(gd);\n",
              "            observer.disconnect();\n",
              "        }}\n",
              "}});\n",
              "\n",
              "// Listen for the removal of the full notebook cells\n",
              "var notebookContainer = gd.closest('#notebook-container');\n",
              "if (notebookContainer) {{\n",
              "    x.observe(notebookContainer, {childList: true});\n",
              "}}\n",
              "\n",
              "// Listen for the clearing of the current output cell\n",
              "var outputEl = gd.closest('.output');\n",
              "if (outputEl) {{\n",
              "    x.observe(outputEl, {childList: true});\n",
              "}}\n",
              "\n",
              "                        })                };                            </script>        </div>\n",
              "</body>\n",
              "</html>"
            ]
          },
          "metadata": {}
        }
      ],
      "source": [
        "# Create a scatter plot using Plotly to visualize the PCA-transformed data.\n",
        "fig = px.scatter(x=X_transformed[:,0], y=X_transformed[:,1], color=y)\n",
        "fig.update_layout(\n",
        "    title=\"PCA transformed data\",\n",
        "    xaxis_title=\"PC1\",\n",
        "    yaxis_title=\"PC2\"\n",
        ")\n",
        "fig.show()"
      ]
    }
  ],
  "metadata": {
    "kaggle": {
      "accelerator": "none",
      "dataSources": [
        {
          "datasetId": 1829286,
          "sourceId": 2984728,
          "sourceType": "datasetVersion"
        }
      ],
      "dockerImageVersionId": 30407,
      "isGpuEnabled": false,
      "isInternetEnabled": true,
      "language": "python",
      "sourceType": "notebook"
    },
    "kernelspec": {
      "display_name": "Python 3",
      "language": "python",
      "name": "python3"
    },
    "language_info": {
      "codemirror_mode": {
        "name": "ipython",
        "version": 3
      },
      "file_extension": ".py",
      "mimetype": "text/x-python",
      "name": "python",
      "nbconvert_exporter": "python",
      "pygments_lexer": "ipython3",
      "version": "3.12.2"
    },
    "colab": {
      "provenance": []
    }
  },
  "nbformat": 4,
  "nbformat_minor": 0
}